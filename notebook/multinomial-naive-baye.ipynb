{
 "cells": [
  {
   "cell_type": "code",
   "execution_count": 1,
   "id": "81256bbf",
   "metadata": {
    "_cell_guid": "b1076dfc-b9ad-4769-8c92-a6c4dae69d19",
    "_uuid": "8f2839f25d086af736a60e9eeb907d3b93b6e0e5",
    "execution": {
     "iopub.execute_input": "2023-11-15T07:31:57.811171Z",
     "iopub.status.busy": "2023-11-15T07:31:57.810628Z",
     "iopub.status.idle": "2023-11-15T07:31:59.480386Z",
     "shell.execute_reply": "2023-11-15T07:31:59.479205Z"
    },
    "papermill": {
     "duration": 1.679053,
     "end_time": "2023-11-15T07:31:59.483365",
     "exception": false,
     "start_time": "2023-11-15T07:31:57.804312",
     "status": "completed"
    },
    "tags": []
   },
   "outputs": [],
   "source": [
    "from sklearn.model_selection import train_test_split \n",
    "from sklearn.feature_extraction.text import CountVectorizer\n",
    "from sklearn.naive_bayes import MultinomialNB\n",
    "from sklearn.metrics import accuracy_score, classification_report\n",
    "import pandas as pd"
   ]
  },
  {
   "cell_type": "markdown",
   "id": "9181f23c",
   "metadata": {
    "papermill": {
     "duration": 0.003899,
     "end_time": "2023-11-15T07:31:59.491838",
     "exception": false,
     "start_time": "2023-11-15T07:31:59.487939",
     "status": "completed"
    },
    "tags": []
   },
   "source": [
    "<h4>Add LLM: 7 prompt training dataset</h4>"
   ]
  },
  {
   "cell_type": "code",
   "execution_count": 2,
   "id": "592680e1",
   "metadata": {
    "execution": {
     "iopub.execute_input": "2023-11-15T07:31:59.501964Z",
     "iopub.status.busy": "2023-11-15T07:31:59.501394Z",
     "iopub.status.idle": "2023-11-15T07:32:00.406325Z",
     "shell.execute_reply": "2023-11-15T07:32:00.405122Z"
    },
    "papermill": {
     "duration": 0.913304,
     "end_time": "2023-11-15T07:32:00.409149",
     "exception": false,
     "start_time": "2023-11-15T07:31:59.495845",
     "status": "completed"
    },
    "tags": []
   },
   "outputs": [],
   "source": [
    "df_llm = pd.read_csv(\"/kaggle/input/llm-7-prompt-training-dataset/train_essays_RDizzl3_seven_v1.csv\")"
   ]
  },
  {
   "cell_type": "code",
   "execution_count": 3,
   "id": "01f8a632",
   "metadata": {
    "execution": {
     "iopub.execute_input": "2023-11-15T07:32:00.419564Z",
     "iopub.status.busy": "2023-11-15T07:32:00.419131Z",
     "iopub.status.idle": "2023-11-15T07:32:00.507885Z",
     "shell.execute_reply": "2023-11-15T07:32:00.506550Z"
    },
    "papermill": {
     "duration": 0.097196,
     "end_time": "2023-11-15T07:32:00.510664",
     "exception": false,
     "start_time": "2023-11-15T07:32:00.413468",
     "status": "completed"
    },
    "tags": []
   },
   "outputs": [],
   "source": [
    "df_llm[\"text\"] = df_llm[\"text\"].str.replace('\\n', '')"
   ]
  },
  {
   "cell_type": "code",
   "execution_count": 4,
   "id": "156126f9",
   "metadata": {
    "execution": {
     "iopub.execute_input": "2023-11-15T07:32:00.521462Z",
     "iopub.status.busy": "2023-11-15T07:32:00.521054Z",
     "iopub.status.idle": "2023-11-15T07:32:00.534848Z",
     "shell.execute_reply": "2023-11-15T07:32:00.533651Z"
    },
    "papermill": {
     "duration": 0.022515,
     "end_time": "2023-11-15T07:32:00.537635",
     "exception": false,
     "start_time": "2023-11-15T07:32:00.515120",
     "status": "completed"
    },
    "tags": []
   },
   "outputs": [],
   "source": [
    "X = df_llm[\"text\"]\n",
    "y = df_llm['label']\n",
    "\n",
    "X_train, X_test, y_train, y_test= train_test_split(X,y , \n",
    "                                   random_state=104,  \n",
    "                                   test_size=0.2,  \n",
    "                                   shuffle=True) "
   ]
  },
  {
   "cell_type": "code",
   "execution_count": 5,
   "id": "2a5f5621",
   "metadata": {
    "execution": {
     "iopub.execute_input": "2023-11-15T07:32:00.547820Z",
     "iopub.status.busy": "2023-11-15T07:32:00.547451Z",
     "iopub.status.idle": "2023-11-15T07:32:07.832801Z",
     "shell.execute_reply": "2023-11-15T07:32:07.831493Z"
    },
    "papermill": {
     "duration": 7.294729,
     "end_time": "2023-11-15T07:32:07.836623",
     "exception": false,
     "start_time": "2023-11-15T07:32:00.541894",
     "status": "completed"
    },
    "tags": []
   },
   "outputs": [
    {
     "name": "stdout",
     "output_type": "stream",
     "text": [
      "Accuracy: 0.9851968503937008\n",
      "Classification Report:\n",
      "               precision    recall  f1-score   support\n",
      "\n",
      "           0       0.99      1.00      0.99      2845\n",
      "           1       0.97      0.89      0.93       330\n",
      "\n",
      "    accuracy                           0.99      3175\n",
      "   macro avg       0.98      0.94      0.96      3175\n",
      "weighted avg       0.99      0.99      0.98      3175\n",
      "\n"
     ]
    }
   ],
   "source": [
    "# Create a CountVectorizer to convert the text data into a bag-of-words representation\n",
    "vectorizer = CountVectorizer()\n",
    "X_train_vectorized = vectorizer.fit_transform(X_train)\n",
    "X_test_vectorized = vectorizer.transform(X_test)\n",
    "\n",
    "# Train a Multinomial Naive Bayes classifier\n",
    "classifier = MultinomialNB()\n",
    "classifier.fit(X_train_vectorized, y_train)\n",
    "\n",
    "# Make predictions on the test set\n",
    "y_pred = classifier.predict(X_test_vectorized)\n",
    "\n",
    "# Evaluate the performance\n",
    "accuracy = accuracy_score(y_test, y_pred)\n",
    "report = classification_report(y_test, y_pred)\n",
    "\n",
    "print(f\"Accuracy: {accuracy}\")\n",
    "print(\"Classification Report:\\n\", report)"
   ]
  },
  {
   "cell_type": "code",
   "execution_count": null,
   "id": "314b95af",
   "metadata": {
    "papermill": {
     "duration": 0.004196,
     "end_time": "2023-11-15T07:32:07.931039",
     "exception": false,
     "start_time": "2023-11-15T07:32:07.926843",
     "status": "completed"
    },
    "tags": []
   },
   "outputs": [],
   "source": []
  }
 ],
 "metadata": {
  "kaggle": {
   "accelerator": "none",
   "dataSources": [
    {
     "databundleVersionId": 6888007,
     "sourceId": 61542,
     "sourceType": "competition"
    },
    {
     "datasetId": 3961875,
     "sourceId": 6918440,
     "sourceType": "datasetVersion"
    }
   ],
   "dockerImageVersionId": 30579,
   "isGpuEnabled": false,
   "isInternetEnabled": false,
   "language": "python",
   "sourceType": "notebook"
  },
  "kernelspec": {
   "display_name": "Python 3",
   "language": "python",
   "name": "python3"
  },
  "language_info": {
   "codemirror_mode": {
    "name": "ipython",
    "version": 3
   },
   "file_extension": ".py",
   "mimetype": "text/x-python",
   "name": "python",
   "nbconvert_exporter": "python",
   "pygments_lexer": "ipython3",
   "version": "3.10.12"
  },
  "papermill": {
   "default_parameters": {},
   "duration": 14.188884,
   "end_time": "2023-11-15T07:32:08.556424",
   "environment_variables": {},
   "exception": null,
   "input_path": "__notebook__.ipynb",
   "output_path": "__notebook__.ipynb",
   "parameters": {},
   "start_time": "2023-11-15T07:31:54.367540",
   "version": "2.4.0"
  }
 },
 "nbformat": 4,
 "nbformat_minor": 5
}
